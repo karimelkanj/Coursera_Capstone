{
 "cells": [
  {
   "cell_type": "markdown",
   "metadata": {},
   "source": [
    "# Most Favorable Area to Open a Restaurant in the UK"
   ]
  },
  {
   "cell_type": "markdown",
   "metadata": {},
   "source": [
    "This project will consist of an exploration of the way venues are distributed in three of the biggest cities in the UK. This will act as a reference for anyone interested in starting a business. For the purpose of this project, the main focus will be regarding finding the best place to start a restaurant. An entrepreneur interested in such investement can make use of this project by, either, picking the location with the least amount of opened restaurants (to prevent fearse competition), or choosing to invest in the city with the most opened restaurants (which could be a sign that such investment is popular among residents)."
   ]
  },
  {
   "cell_type": "markdown",
   "metadata": {},
   "source": [
    "The data used will consist of:  \n",
    "* Postcodes dataframes of the three UK cities\n",
    "* Coordinates dataframes\n",
    "* Foursquare dataframe of the venues"
   ]
  },
  {
   "cell_type": "markdown",
   "metadata": {},
   "source": [
    "The methodology of this project will be putting the venues into Clusters using KMeans"
   ]
  },
  {
   "cell_type": "code",
   "execution_count": null,
   "metadata": {},
   "outputs": [],
   "source": []
  }
 ],
 "metadata": {
  "kernelspec": {
   "display_name": "Python 3.6",
   "language": "python",
   "name": "python3"
  },
  "language_info": {
   "codemirror_mode": {
    "name": "ipython",
    "version": 3
   },
   "file_extension": ".py",
   "mimetype": "text/x-python",
   "name": "python",
   "nbconvert_exporter": "python",
   "pygments_lexer": "ipython3",
   "version": "3.6.9"
  }
 },
 "nbformat": 4,
 "nbformat_minor": 1
}
